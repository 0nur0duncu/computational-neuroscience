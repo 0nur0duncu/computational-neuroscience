{
 "cells": [
  {
   "cell_type": "markdown",
   "metadata": {},
   "source": [
    "* https://www.v7labs.com/blog/neural-networks-activation-functions\n",
    "* https://www.v7labs.com/blog/neural-network-architectures-guide\n",
    "\n",
    "![](./Screenshot%202024-03-31%20095504.png)\n",
    "![](https://www.veribilimiokulu.com/wp-content/uploads/2018/08/yapay-sinir-aglari.jpg)\n",
    "\n",
    "* W sinapsa etki derecesi (Ağırlık)\n",
    "\n",
    "* Toplam ve aktivasyon fonksiyonu hücre gövdesini temsil eder.\n",
    "\n",
    "* y = f(w.x + b)"
   ]
  },
  {
   "cell_type": "markdown",
   "metadata": {},
   "source": []
  }
 ],
 "metadata": {
  "language_info": {
   "name": "python"
  }
 },
 "nbformat": 4,
 "nbformat_minor": 2
}
